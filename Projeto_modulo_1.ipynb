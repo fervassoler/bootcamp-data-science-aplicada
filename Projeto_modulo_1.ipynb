{
  "nbformat": 4,
  "nbformat_minor": 0,
  "metadata": {
    "colab": {
      "name": "Fernanda-Vassoler.ipynb",
      "provenance": [],
      "mount_file_id": "1uCcQz1GONGFYWryhBUhT-cRh2IK1I42G",
      "authorship_tag": "ABX9TyNHvNpzhQPw9aoXT6QxbuxT",
      "include_colab_link": true
    },
    "kernelspec": {
      "name": "python3",
      "display_name": "Python 3"
    }
  },
  "cells": [
    {
      "cell_type": "markdown",
      "metadata": {
        "id": "view-in-github",
        "colab_type": "text"
      },
      "source": [
        "<a href=\"https://colab.research.google.com/github/fervassoler/bootcamp-data-science-aplicada/blob/main/Projeto_modulo_1.ipynb\" target=\"_parent\"><img src=\"https://colab.research.google.com/assets/colab-badge.svg\" alt=\"Open In Colab\"/></a>"
      ]
    },
    {
      "cell_type": "markdown",
      "metadata": {
        "id": "XJXITj7aUf8j"
      },
      "source": [
        "# Projeto Módulo 1"
      ]
    },
    {
      "cell_type": "markdown",
      "metadata": {
        "id": "HKzLEC5_YL4M"
      },
      "source": [
        "Nesse estudo quero analisar a diferença na mortalidade da população tendo em vista o impacto da pandemia de covid-19 no ano de 2020 em comparação com a mortalidade do ano anterior"
      ]
    },
    {
      "cell_type": "markdown",
      "metadata": {
        "id": "8SDpP8BwUqu_"
      },
      "source": [
        "## imports"
      ]
    },
    {
      "cell_type": "code",
      "metadata": {
        "id": "1x3VifVmSe81"
      },
      "source": [
        "import pandas as pd\n",
        "from datetime import datetime as dt\n",
        "import matplotlib.pyplot as plt"
      ],
      "execution_count": 49,
      "outputs": []
    },
    {
      "cell_type": "markdown",
      "metadata": {
        "id": "gkRVUEmoUwrr"
      },
      "source": [
        "## Análise exploratória"
      ]
    },
    {
      "cell_type": "markdown",
      "metadata": {
        "id": "rtnx1hOiVEtr"
      },
      "source": [
        "Nesse estudo estão sendo utilizadas as bases de dados disponibilizadas no [github da Alula](https://github.com/alura-cursos/agendamento-hospitalar/tree/main/dados):\n",
        "- Brasil io(casos_covid)\n",
        "- População estimada pelo ibge(populacao_ibge_2020)\n",
        "- Obitos-registro-civil(obitos)"
      ]
    },
    {
      "cell_type": "code",
      "metadata": {
        "id": "JLf3eP3vTBnT"
      },
      "source": [
        "#lendo os datasets\n",
        "obitos = pd.read_csv('https://raw.githubusercontent.com/alura-cursos/agendamento-hospitalar/main/dados/obitos-registro-civil.csv')\n",
        "casos_covid = pd.read_csv('/content/drive/MyDrive/Colab Notebooks/bootcamp/Modulo1/caso.csv')\n",
        "populacao_ibge_2020 = pd.read_csv('/content/drive/MyDrive/Colab Notebooks/bootcamp/Modulo1/populacao_ibge.csv', sep=';')"
      ],
      "execution_count": 50,
      "outputs": []
    },
    {
      "cell_type": "code",
      "metadata": {
        "colab": {
          "base_uri": "https://localhost:8080/",
          "height": 578
        },
        "id": "oGM0XyFWTJ1Y",
        "outputId": "e301396a-37b3-4df1-a725-ce9bde4326af"
      },
      "source": [
        "display(obitos.head())\n",
        "display(casos_covid.head())\n",
        "display(populacao_ibge_2020.head())"
      ],
      "execution_count": 51,
      "outputs": [
        {
          "output_type": "display_data",
          "data": {
            "text/html": [
              "<div>\n",
              "<style scoped>\n",
              "    .dataframe tbody tr th:only-of-type {\n",
              "        vertical-align: middle;\n",
              "    }\n",
              "\n",
              "    .dataframe tbody tr th {\n",
              "        vertical-align: top;\n",
              "    }\n",
              "\n",
              "    .dataframe thead th {\n",
              "        text-align: right;\n",
              "    }\n",
              "</style>\n",
              "<table border=\"1\" class=\"dataframe\">\n",
              "  <thead>\n",
              "    <tr style=\"text-align: right;\">\n",
              "      <th></th>\n",
              "      <th>year</th>\n",
              "      <th>month</th>\n",
              "      <th>state</th>\n",
              "      <th>deaths</th>\n",
              "    </tr>\n",
              "  </thead>\n",
              "  <tbody>\n",
              "    <tr>\n",
              "      <th>0</th>\n",
              "      <td>1970</td>\n",
              "      <td>1</td>\n",
              "      <td>AM</td>\n",
              "      <td>1</td>\n",
              "    </tr>\n",
              "    <tr>\n",
              "      <th>1</th>\n",
              "      <td>1970</td>\n",
              "      <td>1</td>\n",
              "      <td>BA</td>\n",
              "      <td>6</td>\n",
              "    </tr>\n",
              "    <tr>\n",
              "      <th>2</th>\n",
              "      <td>1970</td>\n",
              "      <td>1</td>\n",
              "      <td>CE</td>\n",
              "      <td>9</td>\n",
              "    </tr>\n",
              "    <tr>\n",
              "      <th>3</th>\n",
              "      <td>1970</td>\n",
              "      <td>1</td>\n",
              "      <td>DF</td>\n",
              "      <td>52</td>\n",
              "    </tr>\n",
              "    <tr>\n",
              "      <th>4</th>\n",
              "      <td>1970</td>\n",
              "      <td>1</td>\n",
              "      <td>ES</td>\n",
              "      <td>65</td>\n",
              "    </tr>\n",
              "  </tbody>\n",
              "</table>\n",
              "</div>"
            ],
            "text/plain": [
              "   year  month state  deaths\n",
              "0  1970      1    AM       1\n",
              "1  1970      1    BA       6\n",
              "2  1970      1    CE       9\n",
              "3  1970      1    DF      52\n",
              "4  1970      1    ES      65"
            ]
          },
          "metadata": {
            "tags": []
          }
        },
        {
          "output_type": "display_data",
          "data": {
            "text/html": [
              "<div>\n",
              "<style scoped>\n",
              "    .dataframe tbody tr th:only-of-type {\n",
              "        vertical-align: middle;\n",
              "    }\n",
              "\n",
              "    .dataframe tbody tr th {\n",
              "        vertical-align: top;\n",
              "    }\n",
              "\n",
              "    .dataframe thead th {\n",
              "        text-align: right;\n",
              "    }\n",
              "</style>\n",
              "<table border=\"1\" class=\"dataframe\">\n",
              "  <thead>\n",
              "    <tr style=\"text-align: right;\">\n",
              "      <th></th>\n",
              "      <th>date</th>\n",
              "      <th>state</th>\n",
              "      <th>city</th>\n",
              "      <th>place_type</th>\n",
              "      <th>confirmed</th>\n",
              "      <th>deaths</th>\n",
              "      <th>order_for_place</th>\n",
              "      <th>is_last</th>\n",
              "      <th>estimated_population_2019</th>\n",
              "      <th>estimated_population</th>\n",
              "      <th>city_ibge_code</th>\n",
              "      <th>confirmed_per_100k_inhabitants</th>\n",
              "      <th>death_rate</th>\n",
              "    </tr>\n",
              "  </thead>\n",
              "  <tbody>\n",
              "    <tr>\n",
              "      <th>0</th>\n",
              "      <td>2020-11-05</td>\n",
              "      <td>AC</td>\n",
              "      <td>NaN</td>\n",
              "      <td>state</td>\n",
              "      <td>31248</td>\n",
              "      <td>697</td>\n",
              "      <td>234</td>\n",
              "      <td>True</td>\n",
              "      <td>881935.0</td>\n",
              "      <td>894470.0</td>\n",
              "      <td>12.0</td>\n",
              "      <td>3493.46540</td>\n",
              "      <td>0.0223</td>\n",
              "    </tr>\n",
              "    <tr>\n",
              "      <th>1</th>\n",
              "      <td>2020-11-04</td>\n",
              "      <td>AC</td>\n",
              "      <td>NaN</td>\n",
              "      <td>state</td>\n",
              "      <td>31218</td>\n",
              "      <td>696</td>\n",
              "      <td>233</td>\n",
              "      <td>False</td>\n",
              "      <td>881935.0</td>\n",
              "      <td>894470.0</td>\n",
              "      <td>12.0</td>\n",
              "      <td>3490.11146</td>\n",
              "      <td>0.0223</td>\n",
              "    </tr>\n",
              "    <tr>\n",
              "      <th>2</th>\n",
              "      <td>2020-11-03</td>\n",
              "      <td>AC</td>\n",
              "      <td>NaN</td>\n",
              "      <td>state</td>\n",
              "      <td>30962</td>\n",
              "      <td>695</td>\n",
              "      <td>232</td>\n",
              "      <td>False</td>\n",
              "      <td>881935.0</td>\n",
              "      <td>894470.0</td>\n",
              "      <td>12.0</td>\n",
              "      <td>3461.49116</td>\n",
              "      <td>0.0224</td>\n",
              "    </tr>\n",
              "    <tr>\n",
              "      <th>3</th>\n",
              "      <td>2020-11-02</td>\n",
              "      <td>AC</td>\n",
              "      <td>NaN</td>\n",
              "      <td>state</td>\n",
              "      <td>30954</td>\n",
              "      <td>693</td>\n",
              "      <td>231</td>\n",
              "      <td>False</td>\n",
              "      <td>881935.0</td>\n",
              "      <td>894470.0</td>\n",
              "      <td>12.0</td>\n",
              "      <td>3460.59678</td>\n",
              "      <td>0.0224</td>\n",
              "    </tr>\n",
              "    <tr>\n",
              "      <th>4</th>\n",
              "      <td>2020-11-01</td>\n",
              "      <td>AC</td>\n",
              "      <td>NaN</td>\n",
              "      <td>state</td>\n",
              "      <td>30951</td>\n",
              "      <td>693</td>\n",
              "      <td>230</td>\n",
              "      <td>False</td>\n",
              "      <td>881935.0</td>\n",
              "      <td>894470.0</td>\n",
              "      <td>12.0</td>\n",
              "      <td>3460.26138</td>\n",
              "      <td>0.0224</td>\n",
              "    </tr>\n",
              "  </tbody>\n",
              "</table>\n",
              "</div>"
            ],
            "text/plain": [
              "         date state  ... confirmed_per_100k_inhabitants death_rate\n",
              "0  2020-11-05    AC  ...                     3493.46540     0.0223\n",
              "1  2020-11-04    AC  ...                     3490.11146     0.0223\n",
              "2  2020-11-03    AC  ...                     3461.49116     0.0224\n",
              "3  2020-11-02    AC  ...                     3460.59678     0.0224\n",
              "4  2020-11-01    AC  ...                     3460.26138     0.0224\n",
              "\n",
              "[5 rows x 13 columns]"
            ]
          },
          "metadata": {
            "tags": []
          }
        },
        {
          "output_type": "display_data",
          "data": {
            "text/html": [
              "<div>\n",
              "<style scoped>\n",
              "    .dataframe tbody tr th:only-of-type {\n",
              "        vertical-align: middle;\n",
              "    }\n",
              "\n",
              "    .dataframe tbody tr th {\n",
              "        vertical-align: top;\n",
              "    }\n",
              "\n",
              "    .dataframe thead th {\n",
              "        text-align: right;\n",
              "    }\n",
              "</style>\n",
              "<table border=\"1\" class=\"dataframe\">\n",
              "  <thead>\n",
              "    <tr style=\"text-align: right;\">\n",
              "      <th></th>\n",
              "      <th>BRASIL E UNIDADES DA FEDERAÇÃO</th>\n",
              "      <th>POPULAÇÃO ESTIMADA</th>\n",
              "    </tr>\n",
              "  </thead>\n",
              "  <tbody>\n",
              "    <tr>\n",
              "      <th>0</th>\n",
              "      <td>Brasil</td>\n",
              "      <td>211755692</td>\n",
              "    </tr>\n",
              "    <tr>\n",
              "      <th>1</th>\n",
              "      <td>Região Norte</td>\n",
              "      <td>18672591</td>\n",
              "    </tr>\n",
              "    <tr>\n",
              "      <th>2</th>\n",
              "      <td>Rondônia</td>\n",
              "      <td>1796460</td>\n",
              "    </tr>\n",
              "    <tr>\n",
              "      <th>3</th>\n",
              "      <td>Acre</td>\n",
              "      <td>894470</td>\n",
              "    </tr>\n",
              "    <tr>\n",
              "      <th>4</th>\n",
              "      <td>Amazonas</td>\n",
              "      <td>4207714</td>\n",
              "    </tr>\n",
              "  </tbody>\n",
              "</table>\n",
              "</div>"
            ],
            "text/plain": [
              "  BRASIL E UNIDADES DA FEDERAÇÃO POPULAÇÃO ESTIMADA\n",
              "0                         Brasil          211755692\n",
              "1                   Região Norte           18672591\n",
              "2                       Rondônia            1796460\n",
              "3                           Acre             894470\n",
              "4                       Amazonas            4207714"
            ]
          },
          "metadata": {
            "tags": []
          }
        }
      ]
    },
    {
      "cell_type": "markdown",
      "metadata": {
        "id": "FnlQWIvWOyW4"
      },
      "source": [
        "o que pretendo avaliar:\n",
        "- calcular taxa de mortalidade por estado de 2019 para 2020\n",
        "- calcular a taxa de óbito por estado\n",
        "\n",
        "Alguns pontos importantes:\n",
        "- nos dados de obitos de 2020 temos informações referentes apenas até o mês 08, com isso os dados do ano anterior serão comparados até o mesmo mês para não haver um erro de proporção nos cálculos.\n",
        "- como queremos comparar com os dados de covid no Brasil e no mês de Janeiro ainda não havia covid, esse mês também será desconsiderado"
      ]
    },
    {
      "cell_type": "code",
      "metadata": {
        "id": "qgP_vtz8XXsu",
        "colab": {
          "base_uri": "https://localhost:8080/"
        },
        "outputId": "4e3b58d6-5077-4048-e092-54d7f223d5e1"
      },
      "source": [
        "#removendo meses após 08 no ano de 2019 da análise\n",
        "num_obitos = obitos.query(f'(year == 2020 or year == 2019) and month > 1 and month < 9')\n",
        "num_obitos.query('year == 2019')['month'].unique()"
      ],
      "execution_count": 52,
      "outputs": [
        {
          "output_type": "execute_result",
          "data": {
            "text/plain": [
              "array([2, 3, 4, 5, 6, 7, 8])"
            ]
          },
          "metadata": {
            "tags": []
          },
          "execution_count": 52
        }
      ]
    },
    {
      "cell_type": "markdown",
      "metadata": {
        "id": "XiUeoqqOHILb"
      },
      "source": [
        "#### analisando em quais estados tiveram mais mortes no total em 2020 em comparação com 2019 até agosto"
      ]
    },
    {
      "cell_type": "code",
      "metadata": {
        "id": "xLGeERUVXYrF",
        "colab": {
          "base_uri": "https://localhost:8080/"
        },
        "outputId": "86c357e2-a30f-4563-912a-8cec5f65541a"
      },
      "source": [
        "estados = list(obitos['state'].unique())\n",
        "estados\n",
        "flag = True\n",
        "for estado in estados:\n",
        "  obitos_2019 = num_obitos.query(f'year == 2019 & state == \"{estado}\"')['deaths'].sum()\n",
        "  obitos_2020 = num_obitos.query(f'year == 2020 & state == \"{estado}\"')['deaths'].sum()\n",
        "\n",
        "  if obitos_2020 > obitos_2019:\n",
        "    if flag:\n",
        "      print('Estados com mais mortes em 2020')\n",
        "    print(f'{estado}: 2020-{obitos_2020} > 2019-{obitos_2019}')\n",
        "    flag = False"
      ],
      "execution_count": 53,
      "outputs": [
        {
          "output_type": "stream",
          "text": [
            "Estados com mais mortes em 2020\n",
            "AM: 2020-11999 > 2019-8490\n",
            "BA: 2020-50022 > 2019-43627\n",
            "CE: 2020-33849 > 2019-24700\n",
            "DF: 2020-10901 > 2019-8751\n",
            "ES: 2020-17006 > 2019-14569\n",
            "GO: 2020-23301 > 2019-19729\n",
            "MA: 2020-17244 > 2019-12981\n",
            "MS: 2020-9986 > 2019-9565\n",
            "MG: 2020-81551 > 2019-74894\n",
            "PB: 2020-17236 > 2019-16133\n",
            "PR: 2020-43403 > 2019-41776\n",
            "PE: 2020-43860 > 2019-36306\n",
            "RJ: 2020-100805 > 2019-86697\n",
            "RN: 2020-11367 > 2019-10265\n",
            "SC: 2020-25606 > 2019-24633\n",
            "SP: 2020-208117 > 2019-185396\n",
            "SE: 2020-8561 > 2019-7699\n",
            "AL: 2020-12443 > 2019-10381\n",
            "AC: 2020-2877 > 2019-2204\n",
            "AP: 2020-1931 > 2019-1756\n",
            "TO: 2020-3927 > 2019-3457\n",
            "PA: 2020-20949 > 2019-15631\n",
            "MT: 2020-10735 > 2019-8316\n",
            "RO: 2020-5736 > 2019-4486\n",
            "RR: 2020-1729 > 2019-1352\n"
          ],
          "name": "stdout"
        }
      ]
    },
    {
      "cell_type": "markdown",
      "metadata": {
        "id": "TVs_A3_hJH6H"
      },
      "source": [
        "#### agrupando e limpando dados"
      ]
    },
    {
      "cell_type": "code",
      "metadata": {
        "id": "d-mHiI4PYKso",
        "colab": {
          "base_uri": "https://localhost:8080/",
          "height": 204
        },
        "outputId": "ef2badca-bc46-4a46-8cfc-106356866926"
      },
      "source": [
        "casos_covid.head()"
      ],
      "execution_count": 54,
      "outputs": [
        {
          "output_type": "execute_result",
          "data": {
            "text/html": [
              "<div>\n",
              "<style scoped>\n",
              "    .dataframe tbody tr th:only-of-type {\n",
              "        vertical-align: middle;\n",
              "    }\n",
              "\n",
              "    .dataframe tbody tr th {\n",
              "        vertical-align: top;\n",
              "    }\n",
              "\n",
              "    .dataframe thead th {\n",
              "        text-align: right;\n",
              "    }\n",
              "</style>\n",
              "<table border=\"1\" class=\"dataframe\">\n",
              "  <thead>\n",
              "    <tr style=\"text-align: right;\">\n",
              "      <th></th>\n",
              "      <th>date</th>\n",
              "      <th>state</th>\n",
              "      <th>city</th>\n",
              "      <th>place_type</th>\n",
              "      <th>confirmed</th>\n",
              "      <th>deaths</th>\n",
              "      <th>order_for_place</th>\n",
              "      <th>is_last</th>\n",
              "      <th>estimated_population_2019</th>\n",
              "      <th>estimated_population</th>\n",
              "      <th>city_ibge_code</th>\n",
              "      <th>confirmed_per_100k_inhabitants</th>\n",
              "      <th>death_rate</th>\n",
              "    </tr>\n",
              "  </thead>\n",
              "  <tbody>\n",
              "    <tr>\n",
              "      <th>0</th>\n",
              "      <td>2020-11-05</td>\n",
              "      <td>AC</td>\n",
              "      <td>NaN</td>\n",
              "      <td>state</td>\n",
              "      <td>31248</td>\n",
              "      <td>697</td>\n",
              "      <td>234</td>\n",
              "      <td>True</td>\n",
              "      <td>881935.0</td>\n",
              "      <td>894470.0</td>\n",
              "      <td>12.0</td>\n",
              "      <td>3493.46540</td>\n",
              "      <td>0.0223</td>\n",
              "    </tr>\n",
              "    <tr>\n",
              "      <th>1</th>\n",
              "      <td>2020-11-04</td>\n",
              "      <td>AC</td>\n",
              "      <td>NaN</td>\n",
              "      <td>state</td>\n",
              "      <td>31218</td>\n",
              "      <td>696</td>\n",
              "      <td>233</td>\n",
              "      <td>False</td>\n",
              "      <td>881935.0</td>\n",
              "      <td>894470.0</td>\n",
              "      <td>12.0</td>\n",
              "      <td>3490.11146</td>\n",
              "      <td>0.0223</td>\n",
              "    </tr>\n",
              "    <tr>\n",
              "      <th>2</th>\n",
              "      <td>2020-11-03</td>\n",
              "      <td>AC</td>\n",
              "      <td>NaN</td>\n",
              "      <td>state</td>\n",
              "      <td>30962</td>\n",
              "      <td>695</td>\n",
              "      <td>232</td>\n",
              "      <td>False</td>\n",
              "      <td>881935.0</td>\n",
              "      <td>894470.0</td>\n",
              "      <td>12.0</td>\n",
              "      <td>3461.49116</td>\n",
              "      <td>0.0224</td>\n",
              "    </tr>\n",
              "    <tr>\n",
              "      <th>3</th>\n",
              "      <td>2020-11-02</td>\n",
              "      <td>AC</td>\n",
              "      <td>NaN</td>\n",
              "      <td>state</td>\n",
              "      <td>30954</td>\n",
              "      <td>693</td>\n",
              "      <td>231</td>\n",
              "      <td>False</td>\n",
              "      <td>881935.0</td>\n",
              "      <td>894470.0</td>\n",
              "      <td>12.0</td>\n",
              "      <td>3460.59678</td>\n",
              "      <td>0.0224</td>\n",
              "    </tr>\n",
              "    <tr>\n",
              "      <th>4</th>\n",
              "      <td>2020-11-01</td>\n",
              "      <td>AC</td>\n",
              "      <td>NaN</td>\n",
              "      <td>state</td>\n",
              "      <td>30951</td>\n",
              "      <td>693</td>\n",
              "      <td>230</td>\n",
              "      <td>False</td>\n",
              "      <td>881935.0</td>\n",
              "      <td>894470.0</td>\n",
              "      <td>12.0</td>\n",
              "      <td>3460.26138</td>\n",
              "      <td>0.0224</td>\n",
              "    </tr>\n",
              "  </tbody>\n",
              "</table>\n",
              "</div>"
            ],
            "text/plain": [
              "         date state  ... confirmed_per_100k_inhabitants death_rate\n",
              "0  2020-11-05    AC  ...                     3493.46540     0.0223\n",
              "1  2020-11-04    AC  ...                     3490.11146     0.0223\n",
              "2  2020-11-03    AC  ...                     3461.49116     0.0224\n",
              "3  2020-11-02    AC  ...                     3460.59678     0.0224\n",
              "4  2020-11-01    AC  ...                     3460.26138     0.0224\n",
              "\n",
              "[5 rows x 13 columns]"
            ]
          },
          "metadata": {
            "tags": []
          },
          "execution_count": 54
        }
      ]
    },
    {
      "cell_type": "code",
      "metadata": {
        "id": "H3l3WO_kKyLs"
      },
      "source": [
        "#separa data e retorna mes e dia\n",
        "def month_day(date, type_info):  \n",
        "  date_object = dt.strptime(date, '%Y-%m-%d').date()\n",
        "\n",
        "  if type_info == 'day':\n",
        "    return int(date_object.day)\n",
        "  elif type_info == 'month':\n",
        "    return int(date_object.month)"
      ],
      "execution_count": 55,
      "outputs": []
    },
    {
      "cell_type": "code",
      "metadata": {
        "id": "PgQsj2ocMJWX"
      },
      "source": [
        "#adiciona coluna com a informação do dia e do mes da informação\n",
        "casos_covid['dia'] = casos_covid['date'].apply(month_day, type_info='day')\n",
        "casos_covid['mes'] = casos_covid['date'].apply(month_day, type_info='month')"
      ],
      "execution_count": 56,
      "outputs": []
    },
    {
      "cell_type": "code",
      "metadata": {
        "colab": {
          "base_uri": "https://localhost:8080/",
          "height": 419
        },
        "id": "RTs9RfkUTL_D",
        "outputId": "81dbaed5-9d97-4240-c0a2-9dca6967eb86"
      },
      "source": [
        "#removendo dados de cidades e deixando apenas de estados até o mês de agosto\n",
        "casos_covid_ago = pd.concat([casos_covid, casos_covid[~casos_covid['city'].isnull()]]).drop_duplicates(keep=False)\n",
        "casos_covid_ago = casos_covid_ago.query('mes < 9')\n",
        "casos_covid_ago"
      ],
      "execution_count": 57,
      "outputs": [
        {
          "output_type": "execute_result",
          "data": {
            "text/html": [
              "<div>\n",
              "<style scoped>\n",
              "    .dataframe tbody tr th:only-of-type {\n",
              "        vertical-align: middle;\n",
              "    }\n",
              "\n",
              "    .dataframe tbody tr th {\n",
              "        vertical-align: top;\n",
              "    }\n",
              "\n",
              "    .dataframe thead th {\n",
              "        text-align: right;\n",
              "    }\n",
              "</style>\n",
              "<table border=\"1\" class=\"dataframe\">\n",
              "  <thead>\n",
              "    <tr style=\"text-align: right;\">\n",
              "      <th></th>\n",
              "      <th>date</th>\n",
              "      <th>state</th>\n",
              "      <th>city</th>\n",
              "      <th>place_type</th>\n",
              "      <th>confirmed</th>\n",
              "      <th>deaths</th>\n",
              "      <th>order_for_place</th>\n",
              "      <th>is_last</th>\n",
              "      <th>estimated_population_2019</th>\n",
              "      <th>estimated_population</th>\n",
              "      <th>city_ibge_code</th>\n",
              "      <th>confirmed_per_100k_inhabitants</th>\n",
              "      <th>death_rate</th>\n",
              "      <th>dia</th>\n",
              "      <th>mes</th>\n",
              "    </tr>\n",
              "  </thead>\n",
              "  <tbody>\n",
              "    <tr>\n",
              "      <th>66</th>\n",
              "      <td>2020-08-31</td>\n",
              "      <td>AC</td>\n",
              "      <td>NaN</td>\n",
              "      <td>state</td>\n",
              "      <td>24647</td>\n",
              "      <td>612</td>\n",
              "      <td>168</td>\n",
              "      <td>False</td>\n",
              "      <td>881935.0</td>\n",
              "      <td>894470.0</td>\n",
              "      <td>12.0</td>\n",
              "      <td>2755.48649</td>\n",
              "      <td>0.0248</td>\n",
              "      <td>31</td>\n",
              "      <td>8</td>\n",
              "    </tr>\n",
              "    <tr>\n",
              "      <th>67</th>\n",
              "      <td>2020-08-30</td>\n",
              "      <td>AC</td>\n",
              "      <td>NaN</td>\n",
              "      <td>state</td>\n",
              "      <td>24638</td>\n",
              "      <td>609</td>\n",
              "      <td>167</td>\n",
              "      <td>False</td>\n",
              "      <td>881935.0</td>\n",
              "      <td>894470.0</td>\n",
              "      <td>12.0</td>\n",
              "      <td>2754.48031</td>\n",
              "      <td>0.0247</td>\n",
              "      <td>30</td>\n",
              "      <td>8</td>\n",
              "    </tr>\n",
              "    <tr>\n",
              "      <th>68</th>\n",
              "      <td>2020-08-29</td>\n",
              "      <td>AC</td>\n",
              "      <td>NaN</td>\n",
              "      <td>state</td>\n",
              "      <td>24601</td>\n",
              "      <td>608</td>\n",
              "      <td>166</td>\n",
              "      <td>False</td>\n",
              "      <td>881935.0</td>\n",
              "      <td>894470.0</td>\n",
              "      <td>12.0</td>\n",
              "      <td>2750.34378</td>\n",
              "      <td>0.0247</td>\n",
              "      <td>29</td>\n",
              "      <td>8</td>\n",
              "    </tr>\n",
              "    <tr>\n",
              "      <th>69</th>\n",
              "      <td>2020-08-28</td>\n",
              "      <td>AC</td>\n",
              "      <td>NaN</td>\n",
              "      <td>state</td>\n",
              "      <td>24462</td>\n",
              "      <td>608</td>\n",
              "      <td>165</td>\n",
              "      <td>False</td>\n",
              "      <td>881935.0</td>\n",
              "      <td>894470.0</td>\n",
              "      <td>12.0</td>\n",
              "      <td>2734.80385</td>\n",
              "      <td>0.0249</td>\n",
              "      <td>28</td>\n",
              "      <td>8</td>\n",
              "    </tr>\n",
              "    <tr>\n",
              "      <th>70</th>\n",
              "      <td>2020-08-27</td>\n",
              "      <td>AC</td>\n",
              "      <td>NaN</td>\n",
              "      <td>state</td>\n",
              "      <td>24269</td>\n",
              "      <td>607</td>\n",
              "      <td>164</td>\n",
              "      <td>False</td>\n",
              "      <td>881935.0</td>\n",
              "      <td>894470.0</td>\n",
              "      <td>12.0</td>\n",
              "      <td>2713.22683</td>\n",
              "      <td>0.0250</td>\n",
              "      <td>27</td>\n",
              "      <td>8</td>\n",
              "    </tr>\n",
              "    <tr>\n",
              "      <th>...</th>\n",
              "      <td>...</td>\n",
              "      <td>...</td>\n",
              "      <td>...</td>\n",
              "      <td>...</td>\n",
              "      <td>...</td>\n",
              "      <td>...</td>\n",
              "      <td>...</td>\n",
              "      <td>...</td>\n",
              "      <td>...</td>\n",
              "      <td>...</td>\n",
              "      <td>...</td>\n",
              "      <td>...</td>\n",
              "      <td>...</td>\n",
              "      <td>...</td>\n",
              "      <td>...</td>\n",
              "    </tr>\n",
              "    <tr>\n",
              "      <th>822221</th>\n",
              "      <td>2020-02-29</td>\n",
              "      <td>SP</td>\n",
              "      <td>NaN</td>\n",
              "      <td>state</td>\n",
              "      <td>2</td>\n",
              "      <td>0</td>\n",
              "      <td>5</td>\n",
              "      <td>False</td>\n",
              "      <td>45919049.0</td>\n",
              "      <td>46289333.0</td>\n",
              "      <td>35.0</td>\n",
              "      <td>0.00432</td>\n",
              "      <td>0.0000</td>\n",
              "      <td>29</td>\n",
              "      <td>2</td>\n",
              "    </tr>\n",
              "    <tr>\n",
              "      <th>822222</th>\n",
              "      <td>2020-02-28</td>\n",
              "      <td>SP</td>\n",
              "      <td>NaN</td>\n",
              "      <td>state</td>\n",
              "      <td>2</td>\n",
              "      <td>0</td>\n",
              "      <td>4</td>\n",
              "      <td>False</td>\n",
              "      <td>45919049.0</td>\n",
              "      <td>46289333.0</td>\n",
              "      <td>35.0</td>\n",
              "      <td>0.00432</td>\n",
              "      <td>0.0000</td>\n",
              "      <td>28</td>\n",
              "      <td>2</td>\n",
              "    </tr>\n",
              "    <tr>\n",
              "      <th>822223</th>\n",
              "      <td>2020-02-27</td>\n",
              "      <td>SP</td>\n",
              "      <td>NaN</td>\n",
              "      <td>state</td>\n",
              "      <td>1</td>\n",
              "      <td>0</td>\n",
              "      <td>3</td>\n",
              "      <td>False</td>\n",
              "      <td>45919049.0</td>\n",
              "      <td>46289333.0</td>\n",
              "      <td>35.0</td>\n",
              "      <td>0.00216</td>\n",
              "      <td>0.0000</td>\n",
              "      <td>27</td>\n",
              "      <td>2</td>\n",
              "    </tr>\n",
              "    <tr>\n",
              "      <th>822224</th>\n",
              "      <td>2020-02-26</td>\n",
              "      <td>SP</td>\n",
              "      <td>NaN</td>\n",
              "      <td>state</td>\n",
              "      <td>1</td>\n",
              "      <td>0</td>\n",
              "      <td>2</td>\n",
              "      <td>False</td>\n",
              "      <td>45919049.0</td>\n",
              "      <td>46289333.0</td>\n",
              "      <td>35.0</td>\n",
              "      <td>0.00216</td>\n",
              "      <td>0.0000</td>\n",
              "      <td>26</td>\n",
              "      <td>2</td>\n",
              "    </tr>\n",
              "    <tr>\n",
              "      <th>822225</th>\n",
              "      <td>2020-02-25</td>\n",
              "      <td>SP</td>\n",
              "      <td>NaN</td>\n",
              "      <td>state</td>\n",
              "      <td>1</td>\n",
              "      <td>0</td>\n",
              "      <td>1</td>\n",
              "      <td>False</td>\n",
              "      <td>45919049.0</td>\n",
              "      <td>46289333.0</td>\n",
              "      <td>35.0</td>\n",
              "      <td>0.00216</td>\n",
              "      <td>0.0000</td>\n",
              "      <td>25</td>\n",
              "      <td>2</td>\n",
              "    </tr>\n",
              "  </tbody>\n",
              "</table>\n",
              "<p>4570 rows × 15 columns</p>\n",
              "</div>"
            ],
            "text/plain": [
              "              date state city  ... death_rate  dia  mes\n",
              "66      2020-08-31    AC  NaN  ...     0.0248   31    8\n",
              "67      2020-08-30    AC  NaN  ...     0.0247   30    8\n",
              "68      2020-08-29    AC  NaN  ...     0.0247   29    8\n",
              "69      2020-08-28    AC  NaN  ...     0.0249   28    8\n",
              "70      2020-08-27    AC  NaN  ...     0.0250   27    8\n",
              "...            ...   ...  ...  ...        ...  ...  ...\n",
              "822221  2020-02-29    SP  NaN  ...     0.0000   29    2\n",
              "822222  2020-02-28    SP  NaN  ...     0.0000   28    2\n",
              "822223  2020-02-27    SP  NaN  ...     0.0000   27    2\n",
              "822224  2020-02-26    SP  NaN  ...     0.0000   26    2\n",
              "822225  2020-02-25    SP  NaN  ...     0.0000   25    2\n",
              "\n",
              "[4570 rows x 15 columns]"
            ]
          },
          "metadata": {
            "tags": []
          },
          "execution_count": 57
        }
      ]
    },
    {
      "cell_type": "code",
      "metadata": {
        "colab": {
          "base_uri": "https://localhost:8080/",
          "height": 204
        },
        "id": "KQKYc5AoVp93",
        "outputId": "9364d884-ad8e-401e-d1c3-2b5a08c27a7d"
      },
      "source": [
        "num_obitos.head()"
      ],
      "execution_count": 58,
      "outputs": [
        {
          "output_type": "execute_result",
          "data": {
            "text/html": [
              "<div>\n",
              "<style scoped>\n",
              "    .dataframe tbody tr th:only-of-type {\n",
              "        vertical-align: middle;\n",
              "    }\n",
              "\n",
              "    .dataframe tbody tr th {\n",
              "        vertical-align: top;\n",
              "    }\n",
              "\n",
              "    .dataframe thead th {\n",
              "        text-align: right;\n",
              "    }\n",
              "</style>\n",
              "<table border=\"1\" class=\"dataframe\">\n",
              "  <thead>\n",
              "    <tr style=\"text-align: right;\">\n",
              "      <th></th>\n",
              "      <th>year</th>\n",
              "      <th>month</th>\n",
              "      <th>state</th>\n",
              "      <th>deaths</th>\n",
              "    </tr>\n",
              "  </thead>\n",
              "  <tbody>\n",
              "    <tr>\n",
              "      <th>14517</th>\n",
              "      <td>2019</td>\n",
              "      <td>2</td>\n",
              "      <td>AC</td>\n",
              "      <td>299</td>\n",
              "    </tr>\n",
              "    <tr>\n",
              "      <th>14518</th>\n",
              "      <td>2019</td>\n",
              "      <td>2</td>\n",
              "      <td>AL</td>\n",
              "      <td>1218</td>\n",
              "    </tr>\n",
              "    <tr>\n",
              "      <th>14519</th>\n",
              "      <td>2019</td>\n",
              "      <td>2</td>\n",
              "      <td>AP</td>\n",
              "      <td>220</td>\n",
              "    </tr>\n",
              "    <tr>\n",
              "      <th>14520</th>\n",
              "      <td>2019</td>\n",
              "      <td>2</td>\n",
              "      <td>AM</td>\n",
              "      <td>1161</td>\n",
              "    </tr>\n",
              "    <tr>\n",
              "      <th>14521</th>\n",
              "      <td>2019</td>\n",
              "      <td>2</td>\n",
              "      <td>BA</td>\n",
              "      <td>5817</td>\n",
              "    </tr>\n",
              "  </tbody>\n",
              "</table>\n",
              "</div>"
            ],
            "text/plain": [
              "       year  month state  deaths\n",
              "14517  2019      2    AC     299\n",
              "14518  2019      2    AL    1218\n",
              "14519  2019      2    AP     220\n",
              "14520  2019      2    AM    1161\n",
              "14521  2019      2    BA    5817"
            ]
          },
          "metadata": {
            "tags": []
          },
          "execution_count": 58
        }
      ]
    },
    {
      "cell_type": "code",
      "metadata": {
        "id": "8zicqPN_XIZJ",
        "colab": {
          "base_uri": "https://localhost:8080/",
          "height": 450
        },
        "outputId": "f43eb7f0-bc2c-47d4-8d7f-80f95c0cc5cf"
      },
      "source": [
        "#filtrando pelos dados do ultimo dia de cada mes\n",
        "casos_covid_ago = casos_covid_ago.groupby(['state','mes']).first()\n",
        "casos_covid_ago"
      ],
      "execution_count": 59,
      "outputs": [
        {
          "output_type": "execute_result",
          "data": {
            "text/html": [
              "<div>\n",
              "<style scoped>\n",
              "    .dataframe tbody tr th:only-of-type {\n",
              "        vertical-align: middle;\n",
              "    }\n",
              "\n",
              "    .dataframe tbody tr th {\n",
              "        vertical-align: top;\n",
              "    }\n",
              "\n",
              "    .dataframe thead th {\n",
              "        text-align: right;\n",
              "    }\n",
              "</style>\n",
              "<table border=\"1\" class=\"dataframe\">\n",
              "  <thead>\n",
              "    <tr style=\"text-align: right;\">\n",
              "      <th></th>\n",
              "      <th></th>\n",
              "      <th>date</th>\n",
              "      <th>city</th>\n",
              "      <th>place_type</th>\n",
              "      <th>confirmed</th>\n",
              "      <th>deaths</th>\n",
              "      <th>order_for_place</th>\n",
              "      <th>is_last</th>\n",
              "      <th>estimated_population_2019</th>\n",
              "      <th>estimated_population</th>\n",
              "      <th>city_ibge_code</th>\n",
              "      <th>confirmed_per_100k_inhabitants</th>\n",
              "      <th>death_rate</th>\n",
              "      <th>dia</th>\n",
              "    </tr>\n",
              "    <tr>\n",
              "      <th>state</th>\n",
              "      <th>mes</th>\n",
              "      <th></th>\n",
              "      <th></th>\n",
              "      <th></th>\n",
              "      <th></th>\n",
              "      <th></th>\n",
              "      <th></th>\n",
              "      <th></th>\n",
              "      <th></th>\n",
              "      <th></th>\n",
              "      <th></th>\n",
              "      <th></th>\n",
              "      <th></th>\n",
              "      <th></th>\n",
              "    </tr>\n",
              "  </thead>\n",
              "  <tbody>\n",
              "    <tr>\n",
              "      <th rowspan=\"5\" valign=\"top\">AC</th>\n",
              "      <th>3</th>\n",
              "      <td>2020-03-31</td>\n",
              "      <td>None</td>\n",
              "      <td>state</td>\n",
              "      <td>42</td>\n",
              "      <td>0</td>\n",
              "      <td>15</td>\n",
              "      <td>False</td>\n",
              "      <td>881935.0</td>\n",
              "      <td>894470.0</td>\n",
              "      <td>12.0</td>\n",
              "      <td>4.69552</td>\n",
              "      <td>0.0000</td>\n",
              "      <td>31</td>\n",
              "    </tr>\n",
              "    <tr>\n",
              "      <th>4</th>\n",
              "      <td>2020-04-30</td>\n",
              "      <td>None</td>\n",
              "      <td>state</td>\n",
              "      <td>404</td>\n",
              "      <td>19</td>\n",
              "      <td>45</td>\n",
              "      <td>False</td>\n",
              "      <td>881935.0</td>\n",
              "      <td>894470.0</td>\n",
              "      <td>12.0</td>\n",
              "      <td>45.16641</td>\n",
              "      <td>0.0470</td>\n",
              "      <td>30</td>\n",
              "    </tr>\n",
              "    <tr>\n",
              "      <th>5</th>\n",
              "      <td>2020-05-31</td>\n",
              "      <td>None</td>\n",
              "      <td>state</td>\n",
              "      <td>6219</td>\n",
              "      <td>148</td>\n",
              "      <td>76</td>\n",
              "      <td>False</td>\n",
              "      <td>881935.0</td>\n",
              "      <td>894470.0</td>\n",
              "      <td>12.0</td>\n",
              "      <td>695.27206</td>\n",
              "      <td>0.0238</td>\n",
              "      <td>31</td>\n",
              "    </tr>\n",
              "    <tr>\n",
              "      <th>6</th>\n",
              "      <td>2020-06-30</td>\n",
              "      <td>None</td>\n",
              "      <td>state</td>\n",
              "      <td>13253</td>\n",
              "      <td>365</td>\n",
              "      <td>106</td>\n",
              "      <td>False</td>\n",
              "      <td>881935.0</td>\n",
              "      <td>894470.0</td>\n",
              "      <td>12.0</td>\n",
              "      <td>1481.65953</td>\n",
              "      <td>0.0275</td>\n",
              "      <td>30</td>\n",
              "    </tr>\n",
              "    <tr>\n",
              "      <th>7</th>\n",
              "      <td>2020-07-31</td>\n",
              "      <td>None</td>\n",
              "      <td>state</td>\n",
              "      <td>19625</td>\n",
              "      <td>531</td>\n",
              "      <td>137</td>\n",
              "      <td>False</td>\n",
              "      <td>881935.0</td>\n",
              "      <td>894470.0</td>\n",
              "      <td>12.0</td>\n",
              "      <td>2194.03669</td>\n",
              "      <td>0.0271</td>\n",
              "      <td>31</td>\n",
              "    </tr>\n",
              "    <tr>\n",
              "      <th>...</th>\n",
              "      <th>...</th>\n",
              "      <td>...</td>\n",
              "      <td>...</td>\n",
              "      <td>...</td>\n",
              "      <td>...</td>\n",
              "      <td>...</td>\n",
              "      <td>...</td>\n",
              "      <td>...</td>\n",
              "      <td>...</td>\n",
              "      <td>...</td>\n",
              "      <td>...</td>\n",
              "      <td>...</td>\n",
              "      <td>...</td>\n",
              "      <td>...</td>\n",
              "    </tr>\n",
              "    <tr>\n",
              "      <th rowspan=\"5\" valign=\"top\">TO</th>\n",
              "      <th>4</th>\n",
              "      <td>2020-04-30</td>\n",
              "      <td>None</td>\n",
              "      <td>state</td>\n",
              "      <td>164</td>\n",
              "      <td>3</td>\n",
              "      <td>44</td>\n",
              "      <td>False</td>\n",
              "      <td>1572866.0</td>\n",
              "      <td>1590248.0</td>\n",
              "      <td>17.0</td>\n",
              "      <td>10.31286</td>\n",
              "      <td>0.0183</td>\n",
              "      <td>30</td>\n",
              "    </tr>\n",
              "    <tr>\n",
              "      <th>5</th>\n",
              "      <td>2020-05-31</td>\n",
              "      <td>None</td>\n",
              "      <td>state</td>\n",
              "      <td>4176</td>\n",
              "      <td>73</td>\n",
              "      <td>72</td>\n",
              "      <td>False</td>\n",
              "      <td>1572866.0</td>\n",
              "      <td>1590248.0</td>\n",
              "      <td>17.0</td>\n",
              "      <td>262.60055</td>\n",
              "      <td>0.0175</td>\n",
              "      <td>31</td>\n",
              "    </tr>\n",
              "    <tr>\n",
              "      <th>6</th>\n",
              "      <td>2020-06-30</td>\n",
              "      <td>None</td>\n",
              "      <td>state</td>\n",
              "      <td>11222</td>\n",
              "      <td>204</td>\n",
              "      <td>101</td>\n",
              "      <td>False</td>\n",
              "      <td>1572866.0</td>\n",
              "      <td>1590248.0</td>\n",
              "      <td>17.0</td>\n",
              "      <td>705.67610</td>\n",
              "      <td>0.0182</td>\n",
              "      <td>30</td>\n",
              "    </tr>\n",
              "    <tr>\n",
              "      <th>7</th>\n",
              "      <td>2020-07-31</td>\n",
              "      <td>None</td>\n",
              "      <td>state</td>\n",
              "      <td>25346</td>\n",
              "      <td>390</td>\n",
              "      <td>132</td>\n",
              "      <td>False</td>\n",
              "      <td>1572866.0</td>\n",
              "      <td>1590248.0</td>\n",
              "      <td>17.0</td>\n",
              "      <td>1593.83945</td>\n",
              "      <td>0.0154</td>\n",
              "      <td>31</td>\n",
              "    </tr>\n",
              "    <tr>\n",
              "      <th>8</th>\n",
              "      <td>2020-08-31</td>\n",
              "      <td>None</td>\n",
              "      <td>state</td>\n",
              "      <td>51629</td>\n",
              "      <td>687</td>\n",
              "      <td>163</td>\n",
              "      <td>False</td>\n",
              "      <td>1572866.0</td>\n",
              "      <td>1590248.0</td>\n",
              "      <td>17.0</td>\n",
              "      <td>3246.60053</td>\n",
              "      <td>0.0133</td>\n",
              "      <td>31</td>\n",
              "    </tr>\n",
              "  </tbody>\n",
              "</table>\n",
              "<p>163 rows × 13 columns</p>\n",
              "</div>"
            ],
            "text/plain": [
              "                 date  city  ... death_rate  dia\n",
              "state mes                    ...                \n",
              "AC    3    2020-03-31  None  ...     0.0000   31\n",
              "      4    2020-04-30  None  ...     0.0470   30\n",
              "      5    2020-05-31  None  ...     0.0238   31\n",
              "      6    2020-06-30  None  ...     0.0275   30\n",
              "      7    2020-07-31  None  ...     0.0271   31\n",
              "...               ...   ...  ...        ...  ...\n",
              "TO    4    2020-04-30  None  ...     0.0183   30\n",
              "      5    2020-05-31  None  ...     0.0175   31\n",
              "      6    2020-06-30  None  ...     0.0182   30\n",
              "      7    2020-07-31  None  ...     0.0154   31\n",
              "      8    2020-08-31  None  ...     0.0133   31\n",
              "\n",
              "[163 rows x 13 columns]"
            ]
          },
          "metadata": {
            "tags": []
          },
          "execution_count": 59
        }
      ]
    },
    {
      "cell_type": "code",
      "metadata": {
        "id": "caWJTXqOd0S7"
      },
      "source": [
        "mortes_gerais = pd.merge(casos_covid_ago, num_obitos, how='left', left_on=['state','mes'], right_on = ['state','month'])"
      ],
      "execution_count": 60,
      "outputs": []
    },
    {
      "cell_type": "code",
      "metadata": {
        "id": "jUP_WfWUY1A4",
        "colab": {
          "base_uri": "https://localhost:8080/",
          "height": 204
        },
        "outputId": "39751d10-6b8e-49fd-b2bc-f50af922c88a"
      },
      "source": [
        "num_obitos.head()"
      ],
      "execution_count": 61,
      "outputs": [
        {
          "output_type": "execute_result",
          "data": {
            "text/html": [
              "<div>\n",
              "<style scoped>\n",
              "    .dataframe tbody tr th:only-of-type {\n",
              "        vertical-align: middle;\n",
              "    }\n",
              "\n",
              "    .dataframe tbody tr th {\n",
              "        vertical-align: top;\n",
              "    }\n",
              "\n",
              "    .dataframe thead th {\n",
              "        text-align: right;\n",
              "    }\n",
              "</style>\n",
              "<table border=\"1\" class=\"dataframe\">\n",
              "  <thead>\n",
              "    <tr style=\"text-align: right;\">\n",
              "      <th></th>\n",
              "      <th>year</th>\n",
              "      <th>month</th>\n",
              "      <th>state</th>\n",
              "      <th>deaths</th>\n",
              "    </tr>\n",
              "  </thead>\n",
              "  <tbody>\n",
              "    <tr>\n",
              "      <th>14517</th>\n",
              "      <td>2019</td>\n",
              "      <td>2</td>\n",
              "      <td>AC</td>\n",
              "      <td>299</td>\n",
              "    </tr>\n",
              "    <tr>\n",
              "      <th>14518</th>\n",
              "      <td>2019</td>\n",
              "      <td>2</td>\n",
              "      <td>AL</td>\n",
              "      <td>1218</td>\n",
              "    </tr>\n",
              "    <tr>\n",
              "      <th>14519</th>\n",
              "      <td>2019</td>\n",
              "      <td>2</td>\n",
              "      <td>AP</td>\n",
              "      <td>220</td>\n",
              "    </tr>\n",
              "    <tr>\n",
              "      <th>14520</th>\n",
              "      <td>2019</td>\n",
              "      <td>2</td>\n",
              "      <td>AM</td>\n",
              "      <td>1161</td>\n",
              "    </tr>\n",
              "    <tr>\n",
              "      <th>14521</th>\n",
              "      <td>2019</td>\n",
              "      <td>2</td>\n",
              "      <td>BA</td>\n",
              "      <td>5817</td>\n",
              "    </tr>\n",
              "  </tbody>\n",
              "</table>\n",
              "</div>"
            ],
            "text/plain": [
              "       year  month state  deaths\n",
              "14517  2019      2    AC     299\n",
              "14518  2019      2    AL    1218\n",
              "14519  2019      2    AP     220\n",
              "14520  2019      2    AM    1161\n",
              "14521  2019      2    BA    5817"
            ]
          },
          "metadata": {
            "tags": []
          },
          "execution_count": 61
        }
      ]
    },
    {
      "cell_type": "code",
      "metadata": {
        "id": "-OFAS1lYTpgc",
        "colab": {
          "base_uri": "https://localhost:8080/",
          "height": 204
        },
        "outputId": "7a6e615b-db80-4b7f-913b-1733905f6414"
      },
      "source": [
        "mortes_gerais.rename(columns={'deaths_x':'mortes_covid', 'deaths_y':'mortes_totais', 'estimated_population':'estimated_population_2020'}, inplace=True)\n",
        "mortes_gerais.drop(['city', 'place_type', 'order_for_place', 'city_ibge_code', 'date', 'dia'], axis=1, inplace=True)\n",
        "mortes_gerais.head()"
      ],
      "execution_count": 62,
      "outputs": [
        {
          "output_type": "execute_result",
          "data": {
            "text/html": [
              "<div>\n",
              "<style scoped>\n",
              "    .dataframe tbody tr th:only-of-type {\n",
              "        vertical-align: middle;\n",
              "    }\n",
              "\n",
              "    .dataframe tbody tr th {\n",
              "        vertical-align: top;\n",
              "    }\n",
              "\n",
              "    .dataframe thead th {\n",
              "        text-align: right;\n",
              "    }\n",
              "</style>\n",
              "<table border=\"1\" class=\"dataframe\">\n",
              "  <thead>\n",
              "    <tr style=\"text-align: right;\">\n",
              "      <th></th>\n",
              "      <th>state</th>\n",
              "      <th>confirmed</th>\n",
              "      <th>mortes_covid</th>\n",
              "      <th>is_last</th>\n",
              "      <th>estimated_population_2019</th>\n",
              "      <th>estimated_population_2020</th>\n",
              "      <th>confirmed_per_100k_inhabitants</th>\n",
              "      <th>death_rate</th>\n",
              "      <th>year</th>\n",
              "      <th>month</th>\n",
              "      <th>mortes_totais</th>\n",
              "    </tr>\n",
              "  </thead>\n",
              "  <tbody>\n",
              "    <tr>\n",
              "      <th>0</th>\n",
              "      <td>AC</td>\n",
              "      <td>42</td>\n",
              "      <td>0</td>\n",
              "      <td>False</td>\n",
              "      <td>881935.0</td>\n",
              "      <td>894470.0</td>\n",
              "      <td>4.69552</td>\n",
              "      <td>0.0000</td>\n",
              "      <td>2019</td>\n",
              "      <td>3</td>\n",
              "      <td>329</td>\n",
              "    </tr>\n",
              "    <tr>\n",
              "      <th>1</th>\n",
              "      <td>AC</td>\n",
              "      <td>42</td>\n",
              "      <td>0</td>\n",
              "      <td>False</td>\n",
              "      <td>881935.0</td>\n",
              "      <td>894470.0</td>\n",
              "      <td>4.69552</td>\n",
              "      <td>0.0000</td>\n",
              "      <td>2020</td>\n",
              "      <td>3</td>\n",
              "      <td>337</td>\n",
              "    </tr>\n",
              "    <tr>\n",
              "      <th>2</th>\n",
              "      <td>AC</td>\n",
              "      <td>404</td>\n",
              "      <td>19</td>\n",
              "      <td>False</td>\n",
              "      <td>881935.0</td>\n",
              "      <td>894470.0</td>\n",
              "      <td>45.16641</td>\n",
              "      <td>0.0470</td>\n",
              "      <td>2019</td>\n",
              "      <td>4</td>\n",
              "      <td>332</td>\n",
              "    </tr>\n",
              "    <tr>\n",
              "      <th>3</th>\n",
              "      <td>AC</td>\n",
              "      <td>404</td>\n",
              "      <td>19</td>\n",
              "      <td>False</td>\n",
              "      <td>881935.0</td>\n",
              "      <td>894470.0</td>\n",
              "      <td>45.16641</td>\n",
              "      <td>0.0470</td>\n",
              "      <td>2020</td>\n",
              "      <td>4</td>\n",
              "      <td>297</td>\n",
              "    </tr>\n",
              "    <tr>\n",
              "      <th>4</th>\n",
              "      <td>AC</td>\n",
              "      <td>6219</td>\n",
              "      <td>148</td>\n",
              "      <td>False</td>\n",
              "      <td>881935.0</td>\n",
              "      <td>894470.0</td>\n",
              "      <td>695.27206</td>\n",
              "      <td>0.0238</td>\n",
              "      <td>2019</td>\n",
              "      <td>5</td>\n",
              "      <td>316</td>\n",
              "    </tr>\n",
              "  </tbody>\n",
              "</table>\n",
              "</div>"
            ],
            "text/plain": [
              "  state  confirmed  mortes_covid  ...  year  month  mortes_totais\n",
              "0    AC         42             0  ...  2019      3            329\n",
              "1    AC         42             0  ...  2020      3            337\n",
              "2    AC        404            19  ...  2019      4            332\n",
              "3    AC        404            19  ...  2020      4            297\n",
              "4    AC       6219           148  ...  2019      5            316\n",
              "\n",
              "[5 rows x 11 columns]"
            ]
          },
          "metadata": {
            "tags": []
          },
          "execution_count": 62
        }
      ]
    },
    {
      "cell_type": "code",
      "metadata": {
        "colab": {
          "base_uri": "https://localhost:8080/"
        },
        "id": "m90r9kkp-_ju",
        "outputId": "4a3d5bd9-f5f1-42e9-de12-79a5a9c47d5c"
      },
      "source": [
        "mortes_gerais['mortes_totais'][1]"
      ],
      "execution_count": 63,
      "outputs": [
        {
          "output_type": "execute_result",
          "data": {
            "text/plain": [
              "337"
            ]
          },
          "metadata": {
            "tags": []
          },
          "execution_count": 63
        }
      ]
    },
    {
      "cell_type": "code",
      "metadata": {
        "id": "3N6hhZ8T8Lvo"
      },
      "source": [
        ""
      ],
      "execution_count": 63,
      "outputs": []
    },
    {
      "cell_type": "code",
      "metadata": {
        "colab": {
          "base_uri": "https://localhost:8080/",
          "height": 419
        },
        "id": "BUE4zvgX-o33",
        "outputId": "44846edb-4ddc-4979-8846-cb70e4360424"
      },
      "source": [
        "mortes_gerais"
      ],
      "execution_count": 64,
      "outputs": [
        {
          "output_type": "execute_result",
          "data": {
            "text/html": [
              "<div>\n",
              "<style scoped>\n",
              "    .dataframe tbody tr th:only-of-type {\n",
              "        vertical-align: middle;\n",
              "    }\n",
              "\n",
              "    .dataframe tbody tr th {\n",
              "        vertical-align: top;\n",
              "    }\n",
              "\n",
              "    .dataframe thead th {\n",
              "        text-align: right;\n",
              "    }\n",
              "</style>\n",
              "<table border=\"1\" class=\"dataframe\">\n",
              "  <thead>\n",
              "    <tr style=\"text-align: right;\">\n",
              "      <th></th>\n",
              "      <th>state</th>\n",
              "      <th>confirmed</th>\n",
              "      <th>mortes_covid</th>\n",
              "      <th>is_last</th>\n",
              "      <th>estimated_population_2019</th>\n",
              "      <th>estimated_population_2020</th>\n",
              "      <th>confirmed_per_100k_inhabitants</th>\n",
              "      <th>death_rate</th>\n",
              "      <th>year</th>\n",
              "      <th>month</th>\n",
              "      <th>mortes_totais</th>\n",
              "    </tr>\n",
              "  </thead>\n",
              "  <tbody>\n",
              "    <tr>\n",
              "      <th>0</th>\n",
              "      <td>AC</td>\n",
              "      <td>42</td>\n",
              "      <td>0</td>\n",
              "      <td>False</td>\n",
              "      <td>881935.0</td>\n",
              "      <td>894470.0</td>\n",
              "      <td>4.69552</td>\n",
              "      <td>0.0000</td>\n",
              "      <td>2019</td>\n",
              "      <td>3</td>\n",
              "      <td>329</td>\n",
              "    </tr>\n",
              "    <tr>\n",
              "      <th>1</th>\n",
              "      <td>AC</td>\n",
              "      <td>42</td>\n",
              "      <td>0</td>\n",
              "      <td>False</td>\n",
              "      <td>881935.0</td>\n",
              "      <td>894470.0</td>\n",
              "      <td>4.69552</td>\n",
              "      <td>0.0000</td>\n",
              "      <td>2020</td>\n",
              "      <td>3</td>\n",
              "      <td>337</td>\n",
              "    </tr>\n",
              "    <tr>\n",
              "      <th>2</th>\n",
              "      <td>AC</td>\n",
              "      <td>404</td>\n",
              "      <td>19</td>\n",
              "      <td>False</td>\n",
              "      <td>881935.0</td>\n",
              "      <td>894470.0</td>\n",
              "      <td>45.16641</td>\n",
              "      <td>0.0470</td>\n",
              "      <td>2019</td>\n",
              "      <td>4</td>\n",
              "      <td>332</td>\n",
              "    </tr>\n",
              "    <tr>\n",
              "      <th>3</th>\n",
              "      <td>AC</td>\n",
              "      <td>404</td>\n",
              "      <td>19</td>\n",
              "      <td>False</td>\n",
              "      <td>881935.0</td>\n",
              "      <td>894470.0</td>\n",
              "      <td>45.16641</td>\n",
              "      <td>0.0470</td>\n",
              "      <td>2020</td>\n",
              "      <td>4</td>\n",
              "      <td>297</td>\n",
              "    </tr>\n",
              "    <tr>\n",
              "      <th>4</th>\n",
              "      <td>AC</td>\n",
              "      <td>6219</td>\n",
              "      <td>148</td>\n",
              "      <td>False</td>\n",
              "      <td>881935.0</td>\n",
              "      <td>894470.0</td>\n",
              "      <td>695.27206</td>\n",
              "      <td>0.0238</td>\n",
              "      <td>2019</td>\n",
              "      <td>5</td>\n",
              "      <td>316</td>\n",
              "    </tr>\n",
              "    <tr>\n",
              "      <th>...</th>\n",
              "      <td>...</td>\n",
              "      <td>...</td>\n",
              "      <td>...</td>\n",
              "      <td>...</td>\n",
              "      <td>...</td>\n",
              "      <td>...</td>\n",
              "      <td>...</td>\n",
              "      <td>...</td>\n",
              "      <td>...</td>\n",
              "      <td>...</td>\n",
              "      <td>...</td>\n",
              "    </tr>\n",
              "    <tr>\n",
              "      <th>321</th>\n",
              "      <td>TO</td>\n",
              "      <td>11222</td>\n",
              "      <td>204</td>\n",
              "      <td>False</td>\n",
              "      <td>1572866.0</td>\n",
              "      <td>1590248.0</td>\n",
              "      <td>705.67610</td>\n",
              "      <td>0.0182</td>\n",
              "      <td>2020</td>\n",
              "      <td>6</td>\n",
              "      <td>552</td>\n",
              "    </tr>\n",
              "    <tr>\n",
              "      <th>322</th>\n",
              "      <td>TO</td>\n",
              "      <td>25346</td>\n",
              "      <td>390</td>\n",
              "      <td>False</td>\n",
              "      <td>1572866.0</td>\n",
              "      <td>1590248.0</td>\n",
              "      <td>1593.83945</td>\n",
              "      <td>0.0154</td>\n",
              "      <td>2019</td>\n",
              "      <td>7</td>\n",
              "      <td>556</td>\n",
              "    </tr>\n",
              "    <tr>\n",
              "      <th>323</th>\n",
              "      <td>TO</td>\n",
              "      <td>25346</td>\n",
              "      <td>390</td>\n",
              "      <td>False</td>\n",
              "      <td>1572866.0</td>\n",
              "      <td>1590248.0</td>\n",
              "      <td>1593.83945</td>\n",
              "      <td>0.0154</td>\n",
              "      <td>2020</td>\n",
              "      <td>7</td>\n",
              "      <td>683</td>\n",
              "    </tr>\n",
              "    <tr>\n",
              "      <th>324</th>\n",
              "      <td>TO</td>\n",
              "      <td>51629</td>\n",
              "      <td>687</td>\n",
              "      <td>False</td>\n",
              "      <td>1572866.0</td>\n",
              "      <td>1590248.0</td>\n",
              "      <td>3246.60053</td>\n",
              "      <td>0.0133</td>\n",
              "      <td>2019</td>\n",
              "      <td>8</td>\n",
              "      <td>526</td>\n",
              "    </tr>\n",
              "    <tr>\n",
              "      <th>325</th>\n",
              "      <td>TO</td>\n",
              "      <td>51629</td>\n",
              "      <td>687</td>\n",
              "      <td>False</td>\n",
              "      <td>1572866.0</td>\n",
              "      <td>1590248.0</td>\n",
              "      <td>3246.60053</td>\n",
              "      <td>0.0133</td>\n",
              "      <td>2020</td>\n",
              "      <td>8</td>\n",
              "      <td>741</td>\n",
              "    </tr>\n",
              "  </tbody>\n",
              "</table>\n",
              "<p>326 rows × 11 columns</p>\n",
              "</div>"
            ],
            "text/plain": [
              "    state  confirmed  mortes_covid  ...  year  month  mortes_totais\n",
              "0      AC         42             0  ...  2019      3            329\n",
              "1      AC         42             0  ...  2020      3            337\n",
              "2      AC        404            19  ...  2019      4            332\n",
              "3      AC        404            19  ...  2020      4            297\n",
              "4      AC       6219           148  ...  2019      5            316\n",
              "..    ...        ...           ...  ...   ...    ...            ...\n",
              "321    TO      11222           204  ...  2020      6            552\n",
              "322    TO      25346           390  ...  2019      7            556\n",
              "323    TO      25346           390  ...  2020      7            683\n",
              "324    TO      51629           687  ...  2019      8            526\n",
              "325    TO      51629           687  ...  2020      8            741\n",
              "\n",
              "[326 rows x 11 columns]"
            ]
          },
          "metadata": {
            "tags": []
          },
          "execution_count": 64
        }
      ]
    },
    {
      "cell_type": "markdown",
      "metadata": {
        "id": "rtJNPcSGZhKB"
      },
      "source": [
        "#### taxa de mortes totais proporcional a população 2019 e 2020 por estado"
      ]
    },
    {
      "cell_type": "code",
      "metadata": {
        "id": "jmmkFyvwVRI9"
      },
      "source": [
        "#criando taxa de morte por ano\n",
        "mortes_gerais['taxa_morte_2019'] = mortes_gerais['mortes_totais'] / mortes_gerais['estimated_population_2019']\n",
        "mortes_gerais['taxa_morte_2020'] = mortes_gerais['mortes_totais'] / mortes_gerais['estimated_population_2020']\n",
        "\n",
        "#gerando dados de taxa de morte agrupado por estado em 2019\n",
        "mortes_gerais_2019 = mortes_gerais.query('year == 2019')\n",
        "mortes_gerais_2019 = mortes_gerais_2019[['state','taxa_morte_2019','month']]\n",
        "mortes_gerais_2019.set_index('month',inplace=True)\n",
        "taxa_morte_por_estado_2019 = mortes_gerais_2019.groupby('state')['taxa_morte_2019'].sum()\n",
        "\n",
        "#gerando dados de taxa de morte agrupado por estado em 2020\n",
        "mortes_gerais_2020 = mortes_gerais.query('year == 2020')\n",
        "mortes_gerais_2020 = mortes_gerais_2020[['state','taxa_morte_2020','month']]\n",
        "mortes_gerais_2020.set_index('month',inplace=True)\n",
        "taxa_morte_por_estado_2020 = mortes_gerais_2020.groupby('state')['taxa_morte_2020'].sum()"
      ],
      "execution_count": 65,
      "outputs": []
    },
    {
      "cell_type": "code",
      "metadata": {
        "colab": {
          "base_uri": "https://localhost:8080/",
          "height": 630
        },
        "id": "rBHF3oW6p045",
        "outputId": "048ef9d8-93d4-495e-cffc-d0a4944faa94"
      },
      "source": [
        "#criando gráfico\n",
        "result = pd.concat([taxa_morte_por_estado_2020, taxa_morte_por_estado_2019], axis=1, sort=False)\n",
        "result = result.sort_values(by=['taxa_morte_2020'], ascending=False)\n",
        "ax = result.plot.bar(figsize=(20,10))\n",
        "plt.title('Taxa de mortes totais 2019 vs 2020 por estado', fontsize=16)\n",
        "plt.xlabel('Estados')\n",
        "plt.show()"
      ],
      "execution_count": 66,
      "outputs": [
        {
          "output_type": "display_data",
          "data": {
            "image/png": "[encoded data removed]",
            "text/plain": [
              "<Figure size 1440x720 with 1 Axes>"
            ]
          },
          "metadata": {
            "tags": [],
            "needs_background": "light"
          }
        }
      ]
    },
    {
      "cell_type": "markdown",
      "metadata": {
        "id": "AIR9cSoc1S6a"
      },
      "source": [
        "#### taxa de mortes por covid proporcional a população comparado a taxa de mortes totais 2019 e 2020"
      ]
    },
    {
      "cell_type": "markdown",
      "metadata": {
        "id": "pfbb4FAV4Vts"
      },
      "source": [
        "Pude verificar que o número de óbitos cadastrado no registro civil de 2020 é menor do que o número de óbitos por covid nas mesmas regiões, para a correção foi considerado o número de mortes totais como mortes no registro civil+mortes por covid"
      ]
    },
    {
      "cell_type": "code",
      "metadata": {
        "id": "BQQ7ujmVqzMK",
        "colab": {
          "base_uri": "https://localhost:8080/"
        },
        "outputId": "f3451f18-51c8-489f-da3f-30b372a2bd37"
      },
      "source": [
        "#criando taxa de morte por covid\n",
        "mortes_gerais['taxa_morte_covid'] = mortes_gerais['mortes_covid'] / mortes_gerais['estimated_population_2020']\n",
        "\n",
        "#gerando dados de taxa de morte de covid agrupado por estado \n",
        "mortes_gerais_covid = mortes_gerais.query('year == 2020')\n",
        "mortes_gerais_covid = mortes_gerais_covid[['state','taxa_morte_covid','month']]\n",
        "mortes_gerais_covid.set_index('month',inplace=True)\n",
        "taxa_morte_por_estado_covid = mortes_gerais_covid.groupby('state')['taxa_morte_covid'].sum()\n",
        "taxa_morte_por_estado_covid"
      ],
      "execution_count": 67,
      "outputs": [
        {
          "output_type": "execute_result",
          "data": {
            "text/plain": [
              "state\n",
              "AC    0.001873\n",
              "AL    0.001491\n",
              "AM    0.002904\n",
              "AP    0.002204\n",
              "BA    0.000769\n",
              "CE    0.002803\n",
              "DF    0.001565\n",
              "ES    0.001980\n",
              "GO    0.000771\n",
              "MA    0.001362\n",
              "MG    0.000443\n",
              "MS    0.000496\n",
              "MT    0.001519\n",
              "PA    0.002305\n",
              "PB    0.001403\n",
              "PE    0.002325\n",
              "PI    0.001243\n",
              "PR    0.000533\n",
              "RJ    0.002640\n",
              "RN    0.001587\n",
              "RO    0.001509\n",
              "RR    0.002445\n",
              "RS    0.000544\n",
              "SC    0.000537\n",
              "SE    0.001785\n",
              "SP    0.001683\n",
              "TO    0.000853\n",
              "Name: taxa_morte_covid, dtype: float64"
            ]
          },
          "metadata": {
            "tags": []
          },
          "execution_count": 67
        }
      ]
    },
    {
      "cell_type": "code",
      "metadata": {
        "id": "MR75zk5mN508"
      },
      "source": [
        "#corrigindo dados registro civil\n",
        "for estado in list(taxa_morte_por_estado_2020.index):\n",
        "  if taxa_morte_por_estado_2020[estado] < taxa_morte_por_estado_covid[estado]:\n",
        "     taxa_morte_por_estado_2020[estado] = taxa_morte_por_estado_covid[estado]"
      ],
      "execution_count": 68,
      "outputs": []
    },
    {
      "cell_type": "code",
      "metadata": {
        "colab": {
          "base_uri": "https://localhost:8080/",
          "height": 630
        },
        "id": "WvUmSuCg2uPj",
        "outputId": "5143d48d-9e68-4199-a283-98b72d102d3c"
      },
      "source": [
        "#criando gráfico\n",
        "result = pd.concat([taxa_morte_por_estado_2020, taxa_morte_por_estado_covid], axis=1, sort=False)\n",
        "result = result.sort_values(by=['taxa_morte_covid'], ascending=False)\n",
        "ax = result.plot.bar(figsize=(20,10))\n",
        "plt.title('Taxa de mortes totais 2020 vs por covid em cada estado', fontsize=16)\n",
        "plt.xlabel('Estados')\n",
        "plt.show()"
      ],
      "execution_count": 69,
      "outputs": [
        {
          "output_type": "display_data",
          "data": {
            "image/png": "[encoded data removed]",
            "text/plain": [
              "<Figure size 1440x720 with 1 Axes>"
            ]
          },
          "metadata": {
            "tags": [],
            "needs_background": "light"
          }
        }
      ]
    },
    {
      "cell_type": "code",
      "metadata": {
        "colab": {
          "base_uri": "https://localhost:8080/",
          "height": 630
        },
        "id": "qgGAB46FJmVm",
        "outputId": "0cba86fe-ecc9-4a41-e578-26170637f358"
      },
      "source": [
        "#criando gráfico\n",
        "result = pd.concat([taxa_morte_por_estado_2019, taxa_morte_por_estado_covid], axis=1, sort=False)\n",
        "result = result.sort_values(by=['taxa_morte_covid'], ascending=False)\n",
        "ax = result.plot.bar(figsize=(20,10))\n",
        "plt.title('Taxa de mortes totais 2019 vs por covid em 2020 em cada estado', fontsize=16)\n",
        "plt.xlabel('Estados')\n",
        "plt.show()"
      ],
      "execution_count": 70,
      "outputs": [
        {
          "output_type": "display_data",
          "data": {
            "image/png": "[encoded data removed]",
            "text/plain": [
              "<Figure size 1440x720 with 1 Axes>"
            ]
          },
          "metadata": {
            "tags": [],
            "needs_background": "light"
          }
        }
      ]
    }
  ]
}